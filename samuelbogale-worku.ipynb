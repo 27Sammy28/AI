{
 "cells": [
  {
   "cell_type": "markdown",
   "metadata": {
    "papermill": {
     "duration": 0.007323,
     "end_time": "2021-03-29T20:43:58.736949",
     "exception": false,
     "start_time": "2021-03-29T20:43:58.729626",
     "status": "completed"
    },
    "tags": []
   },
   "source": [
    "**Apple leaf diseases dataset split into training and validation sets randomly using random.shuffle()**"
   ]
  },
  {
   "cell_type": "code",
   "execution_count": 1,
   "metadata": {
    "execution": {
     "iopub.execute_input": "2023-11-16T19:32:48.364952Z",
     "iopub.status.busy": "2023-11-16T19:32:48.364477Z",
     "iopub.status.idle": "2023-11-16T19:32:48.835274Z",
     "shell.execute_reply": "2023-11-16T19:32:48.833963Z",
     "shell.execute_reply.started": "2023-11-16T19:32:48.364913Z"
    },
    "papermill": {
     "duration": 0.015618,
     "end_time": "2021-03-29T20:43:58.759225",
     "exception": false,
     "start_time": "2021-03-29T20:43:58.743607",
     "status": "completed"
    },
    "tags": []
   },
   "outputs": [],
   "source": [
    "import random \n",
    "import shutil\n",
    "import numpy as np \n",
    "import pandas as pd \n",
    "import os\n",
    "SEED=1"
   ]
  },
  {
   "cell_type": "code",
   "execution_count": 10,
   "metadata": {
    "execution": {
     "iopub.execute_input": "2023-11-16T19:39:50.724814Z",
     "iopub.status.busy": "2023-11-16T19:39:50.724340Z",
     "iopub.status.idle": "2023-11-16T19:39:50.739551Z",
     "shell.execute_reply": "2023-11-16T19:39:50.738342Z",
     "shell.execute_reply.started": "2023-11-16T19:39:50.724780Z"
    },
    "papermill": {
     "duration": 0.031599,
     "end_time": "2021-03-29T20:43:58.797628",
     "exception": false,
     "start_time": "2021-03-29T20:43:58.766029",
     "status": "completed"
    },
    "tags": []
   },
   "outputs": [
    {
     "name": "stdout",
     "output_type": "stream",
     "text": [
      "/root\n",
      "/kaggle/input/apple-leaf-diseases\n"
     ]
    },
    {
     "data": {
      "text/plain": [
       "['Apple_cedar_rust', 'Apple_black_rot', 'Apple_scab']"
      ]
     },
     "execution_count": 10,
     "metadata": {},
     "output_type": "execute_result"
    }
   ],
   "source": [
    "%cd\n",
    "%cd '/kaggle/input/apple-leaf-diseases'\n",
    "os.listdir()"
   ]
  },
  {
   "cell_type": "code",
   "execution_count": 21,
   "metadata": {
    "execution": {
     "iopub.execute_input": "2023-11-16T19:46:40.508664Z",
     "iopub.status.busy": "2023-11-16T19:46:40.507593Z",
     "iopub.status.idle": "2023-11-16T19:46:40.517174Z",
     "shell.execute_reply": "2023-11-16T19:46:40.516035Z",
     "shell.execute_reply.started": "2023-11-16T19:46:40.508616Z"
    },
    "papermill": {
     "duration": 0.065604,
     "end_time": "2021-03-29T20:43:58.870664",
     "exception": false,
     "start_time": "2021-03-29T20:43:58.805060",
     "status": "completed"
    },
    "tags": []
   },
   "outputs": [
    {
     "name": "stdout",
     "output_type": "stream",
     "text": [
      "160\n",
      "150\n",
      "170\n"
     ]
    }
   ],
   "source": [
    "print(len(os.listdir('Apple_cedar_rust')))\n",
    "print(len(os.listdir('Apple_scab')))\n",
    "print(len(os.listdir('Apple_black_rot')))"
   ]
  },
  {
   "cell_type": "code",
   "execution_count": 22,
   "metadata": {
    "execution": {
     "iopub.execute_input": "2023-11-16T19:46:43.303755Z",
     "iopub.status.busy": "2023-11-16T19:46:43.303374Z",
     "iopub.status.idle": "2023-11-16T19:46:43.308971Z",
     "shell.execute_reply": "2023-11-16T19:46:43.307762Z",
     "shell.execute_reply.started": "2023-11-16T19:46:43.303726Z"
    },
    "papermill": {
     "duration": 0.015543,
     "end_time": "2021-03-29T20:43:58.894695",
     "exception": false,
     "start_time": "2021-03-29T20:43:58.879152",
     "status": "completed"
    },
    "tags": []
   },
   "outputs": [],
   "source": [
    "#Creating new directory for slipting dataset\n",
    "base_dir='/kaggle/working'\n",
    "os.chdir(base_dir)\n",
    "os.mkdir('ML')"
   ]
  },
  {
   "cell_type": "code",
   "execution_count": 23,
   "metadata": {
    "execution": {
     "iopub.execute_input": "2023-11-16T19:47:39.761436Z",
     "iopub.status.busy": "2023-11-16T19:47:39.760975Z",
     "iopub.status.idle": "2023-11-16T19:47:39.770196Z",
     "shell.execute_reply": "2023-11-16T19:47:39.768998Z",
     "shell.execute_reply.started": "2023-11-16T19:47:39.761401Z"
    },
    "papermill": {
     "duration": 0.016977,
     "end_time": "2021-03-29T20:43:58.919547",
     "exception": false,
     "start_time": "2021-03-29T20:43:58.902570",
     "status": "completed"
    },
    "tags": []
   },
   "outputs": [],
   "source": [
    "#Creating new directory for training and validation set\n",
    "base_dir='/kaggle/working/ML'\n",
    "os.chdir(base_dir)\n",
    "os.mkdir('Train')\n",
    "os.mkdir('Validate')\n",
    "os.mkdir('Test')\n",
    "#Directory of original dataset\n",
    "os.chdir('/kaggle/input/apple-leaf-diseases')"
   ]
  },
  {
   "cell_type": "code",
   "execution_count": 29,
   "metadata": {
    "execution": {
     "iopub.execute_input": "2023-11-16T19:53:57.869044Z",
     "iopub.status.busy": "2023-11-16T19:53:57.868570Z",
     "iopub.status.idle": "2023-11-16T19:53:57.878501Z",
     "shell.execute_reply": "2023-11-16T19:53:57.877038Z",
     "shell.execute_reply.started": "2023-11-16T19:53:57.869008Z"
    },
    "papermill": {
     "duration": 0.020533,
     "end_time": "2021-03-29T20:43:58.948497",
     "exception": false,
     "start_time": "2021-03-29T20:43:58.927964",
     "status": "completed"
    },
    "tags": []
   },
   "outputs": [
    {
     "name": "stdout",
     "output_type": "stream",
     "text": [
      "['Apple_scab', 'Apple_cedar_rust', 'Apple_black_rot']\n",
      "['Apple_scab', 'Apple_cedar_rust', 'Apple_black_rot']\n",
      "['Apple_scab', 'Apple_cedar_rust', 'Apple_black_rot']\n",
      "['Apple_scab', 'Apple_cedar_rust', 'Apple_black_rot']\n",
      "['Apple_scab', 'Apple_cedar_rust', 'Apple_black_rot']\n",
      "['Apple_scab', 'Apple_cedar_rust', 'Apple_black_rot']\n",
      "['Apple_scab', 'Apple_cedar_rust', 'Apple_black_rot']\n",
      "['Apple_scab', 'Apple_cedar_rust', 'Apple_black_rot']\n",
      "['Apple_scab', 'Apple_cedar_rust', 'Apple_black_rot']\n"
     ]
    }
   ],
   "source": [
    "#Creating sub directories in each of the two folders viz training and validation\n",
    "classes = os.listdir()\n",
    "for i in classes:\n",
    "    tr_dir = os.path.join('/kaggle/working/ML/Train',i)\n",
    "    val_dir = os.path.join('/kaggle/working/ML/Validate',i)\n",
    "    test_dir = os.path.join('/kaggle/working/ML/Test',i)\n",
    "    print(os.listdir('/kaggle/working/ML/Train'))\n",
    "    print(os.listdir('/kaggle/working/ML/Validate'))\n",
    "    print(os.listdir('/kaggle/working/ML/Test'))"
   ]
  },
  {
   "cell_type": "code",
   "execution_count": 30,
   "metadata": {
    "execution": {
     "iopub.execute_input": "2023-11-16T19:55:56.223228Z",
     "iopub.status.busy": "2023-11-16T19:55:56.222774Z",
     "iopub.status.idle": "2023-11-16T19:55:57.621679Z",
     "shell.execute_reply": "2023-11-16T19:55:57.620347Z",
     "shell.execute_reply.started": "2023-11-16T19:55:56.223196Z"
    },
    "papermill": {
     "duration": 1.416969,
     "end_time": "2021-03-29T20:44:00.374974",
     "exception": false,
     "start_time": "2021-03-29T20:43:58.958005",
     "status": "completed"
    },
    "tags": []
   },
   "outputs": [
    {
     "name": "stdout",
     "output_type": "stream",
     "text": [
      "['Apple_cedar_rust', 'Apple_black_rot', 'Apple_scab']\n",
      "/kaggle/input/apple-leaf-diseases\n"
     ]
    }
   ],
   "source": [
    "#Split dataset and make new data\n",
    "print(classes)\n",
    "print(os.getcwd())\n",
    "\n",
    "for item in classes:\n",
    "    n_val = round(len(os.listdir(item)) * 0.2)\n",
    "    n_train = round(len(os.listdir(item)) * 0.6)\n",
    "    n_test = round(len(os.listdir(item)) * 0.2)\n",
    "    fnames = os.listdir(item)\n",
    "    assert (n_val + n_train + n_test == len(fnames))\n",
    "\n",
    "    random.seed(SEED + 5)\n",
    "    random.shuffle(fnames)\n",
    "    val_fnames = fnames[0:n_val]\n",
    "    tr_fnames = fnames[n_val:(n_val + n_train)]\n",
    "    test_fnames = fnames[(n_val + n_train):]\n",
    "\n",
    "    assert (len(val_fnames) + len(tr_fnames) + len(test_fnames) == len(fnames))    \n",
    "    for i in val_fnames:\n",
    "        #Directory of original dataset folder.\n",
    "        src ='/kaggle/input/apple-leaf-diseases/{}/{}'.format(item,i)\n",
    "        #Directory of validation folder.\n",
    "        dest = '/kaggle/working/ML/Validate/{}/'.format(item)\n",
    "        shutil.copy(src,dest)\n",
    "        \n",
    "    for j in tr_fnames:\n",
    "        #Directory of original dataset folder.\n",
    "        src ='/kaggle/input/apple-leaf-diseases/{}/{}'.format(item,j)\n",
    "        #Directory of training folder.\n",
    "        dest ='/kaggle/working/ML/Train/{}/'.format(item)\n",
    "        shutil.copy(src,dest)\n",
    "    for j in test_fnames:\n",
    "        #Directory of original dataset folder.\n",
    "        src ='/kaggle/input/apple-leaf-diseases/{}/{}'.format(item,j)\n",
    "        #Directory of training folder.\n",
    "        dest ='/kaggle/working/ML/Test/{}/'.format(item)\n",
    "        shutil.copy(src,dest)     "
   ]
  },
  {
   "cell_type": "code",
   "execution_count": 31,
   "metadata": {
    "execution": {
     "iopub.execute_input": "2023-11-16T19:57:11.159116Z",
     "iopub.status.busy": "2023-11-16T19:57:11.158637Z",
     "iopub.status.idle": "2023-11-16T19:57:11.169032Z",
     "shell.execute_reply": "2023-11-16T19:57:11.167663Z",
     "shell.execute_reply.started": "2023-11-16T19:57:11.159079Z"
    },
    "papermill": {
     "duration": 0.0208,
     "end_time": "2021-03-29T20:44:00.405021",
     "exception": false,
     "start_time": "2021-03-29T20:44:00.384221",
     "status": "completed"
    },
    "tags": []
   },
   "outputs": [
    {
     "name": "stdout",
     "output_type": "stream",
     "text": [
      "Training samples in Apple_cedar_rust is 96\n",
      "Validation samples in Apple_cedar_rust is 32\n",
      "\n",
      "test samples in Apple_cedar_rust is 32\n",
      "\n",
      "Training samples in Apple_black_rot is 102\n",
      "Validation samples in Apple_black_rot is 34\n",
      "\n",
      "test samples in Apple_black_rot is 34\n",
      "\n",
      "Training samples in Apple_scab is 90\n",
      "Validation samples in Apple_scab is 30\n",
      "\n",
      "test samples in Apple_scab is 30\n",
      "\n"
     ]
    }
   ],
   "source": [
    "for i in classes:\n",
    "    path=os.path.join('/kaggle/working/ML/Train',i)\n",
    "    print('Training samples in {} is {}'.format(i,len(os.listdir(path))))\n",
    "    \n",
    "    path=os.path.join('/kaggle/working/ML/Validate',i)\n",
    "    print('Validation samples in {} is {}\\n'.format(i,len(os.listdir(path))))\n",
    "    path=os.path.join('/kaggle/working/ML/Test',i)\n",
    "    print('test samples in {} is {}\\n'.format(i,len(os.listdir(path))))"
   ]
  }
 ],
 "metadata": {
  "kaggle": {
   "accelerator": "none",
   "dataSources": [
    {
     "datasetId": 1240033,
     "sourceId": 2068940,
     "sourceType": "datasetVersion"
    }
   ],
   "dockerImageVersionId": 30587,
   "isGpuEnabled": false,
   "isInternetEnabled": false,
   "language": "python",
   "sourceType": "notebook"
  },
  "kernelspec": {
   "display_name": "Python 3 (ipykernel)",
   "language": "python",
   "name": "python3"
  },
  "language_info": {
   "codemirror_mode": {
    "name": "ipython",
    "version": 3
   },
   "file_extension": ".py",
   "mimetype": "text/x-python",
   "name": "python",
   "nbconvert_exporter": "python",
   "pygments_lexer": "ipython3",
   "version": "3.9.12"
  },
  "papermill": {
   "default_parameters": {},
   "duration": 8.366277,
   "end_time": "2021-03-29T20:44:00.925522",
   "environment_variables": {},
   "exception": null,
   "input_path": "__notebook__.ipynb",
   "output_path": "__notebook__.ipynb",
   "parameters": {},
   "start_time": "2021-03-29T20:43:52.559245",
   "version": "2.2.2"
  }
 },
 "nbformat": 4,
 "nbformat_minor": 4
}
